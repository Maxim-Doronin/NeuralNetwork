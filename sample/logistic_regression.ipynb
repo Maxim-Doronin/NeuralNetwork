{
 "cells": [
  {
   "cell_type": "code",
   "execution_count": 28,
   "metadata": {
    "collapsed": true
   },
   "outputs": [],
   "source": [
    "from __future__ import print_function\n",
    "\n",
    "import tensorflow as tf"
   ]
  },
  {
   "cell_type": "code",
   "execution_count": 29,
   "metadata": {
    "collapsed": false
   },
   "outputs": [
    {
     "name": "stdout",
     "output_type": "stream",
     "text": [
      "Extracting /tmp/data/train-images-idx3-ubyte.gz\n",
      "Extracting /tmp/data/train-labels-idx1-ubyte.gz\n",
      "Extracting /tmp/data/t10k-images-idx3-ubyte.gz\n",
      "Extracting /tmp/data/t10k-labels-idx1-ubyte.gz\n"
     ]
    }
   ],
   "source": [
    "# Import MNIST data\n",
    "from tensorflow.examples.tutorials.mnist import input_data\n",
    "mnist = input_data.read_data_sets(\"/tmp/data/\", one_hot=True)"
   ]
  },
  {
   "cell_type": "code",
   "execution_count": 30,
   "metadata": {
    "collapsed": true
   },
   "outputs": [],
   "source": [
    "# Parameters\n",
    "learning_rate = 0.01\n",
    "training_epochs = 20\n",
    "batch_size = 100\n",
    "display_step = 1"
   ]
  },
  {
   "cell_type": "code",
   "execution_count": 31,
   "metadata": {
    "collapsed": true
   },
   "outputs": [],
   "source": [
    "# tf Graph Input\n",
    "x = tf.placeholder(tf.float32, [None, 784])\n",
    "y = tf.placeholder(tf.float32, [None, 10])"
   ]
  },
  {
   "cell_type": "code",
   "execution_count": 32,
   "metadata": {
    "collapsed": true
   },
   "outputs": [],
   "source": [
    "# Weight init\n",
    "W = tf.Variable(tf.zeros([784, 10]))\n",
    "b = tf.Variable(tf.zeros([10]))"
   ]
  },
  {
   "cell_type": "code",
   "execution_count": 33,
   "metadata": {
    "collapsed": true
   },
   "outputs": [],
   "source": [
    "# Construct model\n",
    "pred = tf.nn.softmax(tf.matmul(x, W) + b)\n",
    "\n",
    "cost = tf.reduce_mean(-tf.reduce_sum(y*tf.log(pred), reduction_indices=1))\n",
    "optimizer = tf.train.GradientDescentOptimizer(learning_rate).minimize(cost)"
   ]
  },
  {
   "cell_type": "code",
   "execution_count": 34,
   "metadata": {
    "collapsed": false
   },
   "outputs": [],
   "source": [
    "# Initializing the variables\n",
    "init = tf.global_variables_initializer()"
   ]
  },
  {
   "cell_type": "code",
   "execution_count": 35,
   "metadata": {
    "collapsed": false
   },
   "outputs": [
    {
     "name": "stdout",
     "output_type": "stream",
     "text": [
      "Epoch: 0001 cost= 1.481959199\n",
      "Epoch: 0002 cost= 0.881810462\n",
      "Epoch: 0003 cost= 0.707431922\n",
      "Epoch: 0004 cost= 0.622189331\n",
      "Epoch: 0005 cost= 0.570275151\n",
      "Epoch: 0006 cost= 0.534673825\n",
      "Epoch: 0007 cost= 0.508478550\n",
      "Epoch: 0008 cost= 0.488198740\n",
      "Epoch: 0009 cost= 0.471959479\n",
      "Epoch: 0010 cost= 0.458515151\n",
      "Epoch: 0011 cost= 0.447191444\n",
      "Epoch: 0012 cost= 0.437453094\n",
      "Epoch: 0013 cost= 0.429007171\n",
      "Epoch: 0014 cost= 0.421534223\n",
      "Epoch: 0015 cost= 0.414906784\n",
      "Epoch: 0016 cost= 0.408959634\n",
      "Epoch: 0017 cost= 0.403579261\n",
      "Epoch: 0018 cost= 0.398679498\n",
      "Epoch: 0019 cost= 0.394232863\n",
      "Epoch: 0020 cost= 0.390105885\n",
      "Epoch: 0021 cost= 0.386282923\n",
      "Epoch: 0022 cost= 0.382756851\n",
      "Epoch: 0023 cost= 0.379448148\n",
      "Epoch: 0024 cost= 0.376377767\n",
      "Epoch: 0025 cost= 0.373538342\n",
      "Epoch: 0026 cost= 0.370800680\n",
      "Epoch: 0027 cost= 0.368273245\n",
      "Epoch: 0028 cost= 0.365853822\n",
      "Epoch: 0029 cost= 0.363590863\n",
      "Epoch: 0030 cost= 0.361409628\n",
      "Epoch: 0031 cost= 0.359350016\n",
      "Epoch: 0032 cost= 0.357409657\n",
      "Epoch: 0033 cost= 0.355533913\n",
      "Epoch: 0034 cost= 0.353745915\n",
      "Epoch: 0035 cost= 0.352023428\n",
      "Epoch: 0036 cost= 0.350396614\n",
      "Epoch: 0037 cost= 0.348832843\n",
      "Epoch: 0038 cost= 0.347338835\n",
      "Epoch: 0039 cost= 0.345903024\n",
      "Epoch: 0040 cost= 0.344520948\n",
      "Epoch: 0041 cost= 0.343163302\n",
      "Epoch: 0042 cost= 0.341866474\n",
      "Epoch: 0043 cost= 0.340620233\n",
      "Epoch: 0044 cost= 0.339434952\n",
      "Epoch: 0045 cost= 0.338254889\n",
      "Epoch: 0046 cost= 0.337131288\n",
      "Epoch: 0047 cost= 0.336050568\n",
      "Epoch: 0048 cost= 0.334995809\n",
      "Epoch: 0049 cost= 0.333986739\n",
      "Epoch: 0050 cost= 0.332974885\n",
      "Optimization Finished!\n",
      "Accuracy: 0.9132\n"
     ]
    }
   ],
   "source": [
    "# Launch the graph\n",
    "with tf.Session() as sess:\n",
    "    sess.run(init)\n",
    "\n",
    "    # Training cycle\n",
    "    for epoch in range(training_epochs):\n",
    "        avg_cost = 0.\n",
    "        total_batch = int(mnist.train.num_examples/batch_size)\n",
    "        # Loop over all batches\n",
    "        for i in range(total_batch):\n",
    "            batch_xs, batch_ys = mnist.train.next_batch(batch_size)\n",
    "            # Run optimization op (backprop) and cost op (to get loss value)\n",
    "            _, c = sess.run([optimizer, cost], feed_dict={x: batch_xs,\n",
    "                                                          y: batch_ys})\n",
    "            # Compute average loss\n",
    "            avg_cost += c / total_batch\n",
    "        # Display logs per epoch step\n",
    "        if (epoch+1) % display_step == 0:\n",
    "            print(\"Epoch:\", '%04d' % (epoch+1), \"cost=\", \"{:.9f}\".format(avg_cost))\n",
    "\n",
    "    print(\"Optimization Finished!\")\n",
    "\n",
    "    # Test model\n",
    "    correct_prediction = tf.equal(tf.argmax(pred, 1), tf.argmax(y, 1))\n",
    "    # Calculate accuracy\n",
    "    accuracy = tf.reduce_mean(tf.cast(correct_prediction, tf.float32))\n",
    "    print(\"Accuracy:\", accuracy.eval({x: mnist.test.images, y: mnist.test.labels}))"
   ]
  }
 ],
 "metadata": {
  "anaconda-cloud": {},
  "kernelspec": {
   "display_name": "Python [conda root]",
   "language": "python",
   "name": "conda-root-py"
  },
  "language_info": {
   "codemirror_mode": {
    "name": "ipython",
    "version": 3
   },
   "file_extension": ".py",
   "mimetype": "text/x-python",
   "name": "python",
   "nbconvert_exporter": "python",
   "pygments_lexer": "ipython3",
   "version": "3.5.2"
  }
 },
 "nbformat": 4,
 "nbformat_minor": 1
}
